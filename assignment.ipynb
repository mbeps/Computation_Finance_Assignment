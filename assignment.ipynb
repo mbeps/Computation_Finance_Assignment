{
 "cells": [
  {
   "attachments": {},
   "cell_type": "markdown",
   "metadata": {},
   "source": [
    "# 1 - Practical"
   ]
  },
  {
   "cell_type": "code",
   "execution_count": 11,
   "metadata": {},
   "outputs": [],
   "source": [
    "import numpy as np\n",
    "import math\n",
    "from scipy.stats import norm\n",
    "import matplotlib.pyplot as plt"
   ]
  },
  {
   "attachments": {},
   "cell_type": "markdown",
   "metadata": {},
   "source": [
    "The objective of this part of the coursework is to implement three different ways of valuing put and call options."
   ]
  },
  {
   "attachments": {},
   "cell_type": "markdown",
   "metadata": {},
   "source": [
    "Take two numbers, $X_1 = 120$ and $X_2$ calculated as follows. Take your student number, remove zeros and use the remaining digits to make the number closest to $100$. For example, if your student number is $100966240$, after dropping 0s you get $196624$ and can make the number $96$. Do not put your student number on your submission to preserve anonymity.\n",
    "\n",
    "Consider options with strike prices $X_1$ and $X_2$ of $4$ types (European and American puts and calls) with the time to maturity equal to 6 months (1/2 of a year). \n",
    "\n",
    "In total this amounts to 8 different options.\n",
    "Suppose the following holds:\n",
    "- current stock price S0 is 100p;\n",
    "- annual volatility is 20%;\n",
    "- money can be invested at the annual interest rate (with continuous compounding) of 5% and the investment is virtually riskless; money can be borrowed at the same rate.\n",
    "\n",
    "You should code up the Black–Scholes formula, binomial trees, and Monte Carlo algorithm, and find the following 20 numbers:\n",
    "- the prices of the European call and put options computed from the Black–Scholes formula (4 numbers);\n",
    "- the prices of the European and American call and put options computed using the binomial tree method (with approximately 1 day as the time step) (8 numbers);\n",
    "- the prices of the European call and put options computed using the Monte Carlo method (with approximately 1 day as the time step) (4 numbers).\n",
    "\n",
    "In the lectures several variations of each method were considered (e.g., different types of trees or simulations based on different SDEs). It is sufficient to choose one variant. Doing several variants will be considered an extra advantage, but it is not required.\n",
    "- Hint 1: It is easier to measure time in years (fractions of a year), rather than in days.\n",
    "- Hint 2: Different methods should return similar values for the same price.\n",
    "For example, the prices of European options calculated using the Black-Scholes formula, binomial trees, and Monte-Carlo should be the same (or very close, usually within 0.1p).\n",
    "- Hint 3: If you use Java, you will need to calculate the distribution function N of the Gaussian distribution ϕ(0, 1). You can use the method from the file `CNDF.java` provided on Moodle."
   ]
  },
  {
   "cell_type": "code",
   "execution_count": 12,
   "metadata": {},
   "outputs": [],
   "source": [
    "S0: int = 100\n",
    "X1: int = 120\n",
    "X2: int = 95  # This value is based on your student number as described in the question\n",
    "r: float = 0.05\n",
    "sigma: float = 0.2\n",
    "T: float = 0.5\n",
    "N: int = 183  # Approximate number of days in 6 months"
   ]
  },
  {
   "cell_type": "markdown",
   "metadata": {},
   "source": [
    "## Binomial Trees"
   ]
  },
  {
   "attachments": {},
   "cell_type": "markdown",
   "metadata": {},
   "source": [
    "- `S0`: the current stock price\n",
    "- `X`: the strike price\n",
    "- `r`: the risk-free interest rate\n",
    "- `sigma`: the volatility\n",
    "- `T`: the time to maturity\n",
    "- `N`: the number of time steps\n",
    "- `option`: option, either `american` or `european`\n",
    "- `option_type`: the type of option, either 'call' or 'put'"
   ]
  },
  {
   "attachments": {},
   "cell_type": "markdown",
   "metadata": {},
   "source": [
    "**European**\n",
    "\n",
    "**Call Option**\n",
    "$$C_{i,j} = \\max(S_{i,j} - X, 0)$$\n",
    "- $S_{i,j}$ is the price of the underlying asset at time step $i$ and node $j$, $X$ is the strike price\n",
    "- $C_{i,j}$ is the price of the call option at time step $i$ and node $j$.\n",
    "\n",
    "**Put Option**\n",
    "$$P_{i,j} = \\max(X - S_{i,j}, 0)$$\n",
    "- $P_{i,j}$ is the price of the put option at time step $i$ and node $j$."
   ]
  },
  {
   "attachments": {},
   "cell_type": "markdown",
   "metadata": {},
   "source": [
    "**American**\n",
    "\n",
    "**Call Option**\n",
    "$$ V[i][j] = \\max(S[i][j] - X, \\max(V[i+1][j+1] * u, V[i+1][j+1] * d)) $$\n",
    "- $V[i][j]$ is the value of the option at time step j and node i\n",
    "- $X$ is the strike price of the option\n",
    "- $S[i][j]$ is the stock price at time step $j$ and node $i$\n",
    "- $u$ and d are the up and down factors used to calculate the stock price at each node\n",
    "- $V[i+1][j+1] * u$ and $V[i+1][j+1] * d$ are the estimated option values at the next node in the tree, calculated by multiplying the values of the next time step by the up and down factors\n",
    "\n",
    "**Put Option**\n",
    "$$ V[i][j] = \\max(X - S[i][j], \\max(V[i+1][j+1] * u, V[i+1][j+1] * d)) $$\n",
    "- $V[i][j]$ is the value of the option at time step j and node i\n",
    "- $X$ is the strike price of the option\n",
    "- $S[i][j]$ is the stock price at time step $j$ and node $i$\n",
    "- $u$ and d are the up and down factors used to calculate the stock price at each node\n",
    "- $V[i+1][j+1] * u$ and $V[i+1][j+1] * d$ are the estimated option values at the next node in the tree, calculated by multiplying the values of the next time step by the up and down factors"
   ]
  },
  {
   "cell_type": "code",
   "execution_count": 13,
   "metadata": {},
   "outputs": [],
   "source": [
    "def binomial_tree(S0: int, X: int, r: float, sigma: float, T: float, N: int, option: str, option_type: str) -> float:\n",
    "    dt: float = T/N # time step\n",
    "    u: float = np.exp(sigma*np.sqrt(dt)) # up factor by \n",
    "    d: float = 1/u # down factor\n",
    "    p: float = (np.exp(r*dt) - d) / (u - d) # probability of up movement\n",
    "\n",
    "    stock_price: list[float] = np.zeros((N + 1, N + 1)) # stock price matrix\n",
    "    option_price: list[float] = np.zeros((N + 1, N + 1)) # option price matrix\n",
    "\n",
    "    for i in range(N + 1): \n",
    "        for j in range(i + 1):\n",
    "            stock_price[j][i] = S0*(u**(i-j))*(d**j) \n",
    "\n",
    "    if option_type == 'call' and option == 'european': \n",
    "        option_price[:, N] = np.maximum(np.zeros(N+1), stock_price[:, N] - X)\n",
    "    elif option_type == 'put' and option == 'european':\n",
    "        option_price[:, N] = np.maximum(np.zeros(N+1), X - stock_price[:, N])\n",
    "    elif option_type == 'call' and option == 'american':\n",
    "        option_price[:, N] = np.maximum(np.zeros(N+1), stock_price[:, N] - X)\n",
    "    elif option_type == 'put' and option == 'american':\n",
    "        option_price[:, N] = np.maximum(np.zeros(N+1), X - stock_price[:, N])\n",
    "    else:\n",
    "        raise ValueError(\"Invalid option type\")\n",
    "\n",
    "    for i in range(N - 1, -1, -1):\n",
    "        for j in range(i + 1): \n",
    "            option_price[j][i] = (\n",
    "                p*option_price[j][i+1] + (1-p) * option_price[j + 1][i + 1]) / np.exp(r * dt) \n",
    "            if option_type == 'call' and option == 'american':\n",
    "                option_price[j][i] = np.maximum(\n",
    "                    option_price[j][i], stock_price[j][i] - X)\n",
    "            elif option_type == 'put' and option == 'american':\n",
    "                option_price[j][i] = np.maximum(\n",
    "                    option_price[j][i], X - stock_price[j][i])\n",
    "\n",
    "    return option_price[0][0]"
   ]
  },
  {
   "cell_type": "code",
   "execution_count": 14,
   "metadata": {},
   "outputs": [
    {
     "name": "stdout",
     "output_type": "stream",
     "text": [
      "European call option X1:  1.020785103620697\n",
      "European put option X1:  18.057974547021804\n",
      "American call option X1:  1.020785103620697\n",
      "American put option X1:  20.0\n",
      "European call option X2:  9.868465238627794\n",
      "European put option X2:  2.5229068813203352\n",
      "American call option X2:  9.868465238627794\n",
      "American put option X2:  2.6379423178025427\n"
     ]
    }
   ],
   "source": [
    "binomial_european_call_X1 = binomial_tree(S0, X1, r, sigma, T, N, 'european', 'call')\n",
    "binomial_european_put_X1 = binomial_tree(S0, X1, r, sigma, T, N, 'european', 'put')\n",
    "binomial_american_call_X1 = binomial_tree(S0, X1, r, sigma, T, N, 'american' ,'call')\n",
    "binomial_american_put_X1 = binomial_tree(S0, X1, r, sigma, T, N, 'american' , 'put')\n",
    "binomial_european_call_X2 = binomial_tree(S0, X2, r, sigma, T, N, 'european', 'call')\n",
    "binomial_european_put_X2 = binomial_tree(S0, X2, r, sigma, T, N, 'european', 'put')\n",
    "binomial_american_call_X2 = binomial_tree(S0, X2, r, sigma, T, N, 'american' , 'call')\n",
    "binomial_american_put_X2 = binomial_tree(S0, X2, r, sigma, T, N, 'american' , 'put')\n",
    "\n",
    "print(\"European call option X1: \", binomial_european_call_X1)\n",
    "print(\"European put option X1: \", binomial_european_put_X1)\n",
    "print(\"American call option X1: \", binomial_american_call_X1)\n",
    "print(\"American put option X1: \", binomial_american_put_X1)\n",
    "print(\"European call option X2: \", binomial_european_call_X2)\n",
    "print(\"European put option X2: \", binomial_european_put_X2)\n",
    "print(\"American call option X2: \", binomial_american_call_X2)\n",
    "print(\"American put option X2: \", binomial_american_put_X2)"
   ]
  },
  {
   "cell_type": "markdown",
   "metadata": {},
   "source": [
    "## Monte Carlo"
   ]
  },
  {
   "attachments": {},
   "cell_type": "markdown",
   "metadata": {},
   "source": [
    "- `S0`: the current stock price\n",
    "- `X`: the strike price\n",
    "- `r`: the risk-free interest rate\n",
    "- `sigma`: the volatility\n",
    "- `T`: the time to maturity\n",
    "- `N`: the number of time steps\n",
    "- `M`: number of simulations\n",
    "- `option`: option, either `american` or `european`\n",
    "- `option_type`: the type of option, either 'call' or 'put'"
   ]
  },
  {
   "attachments": {},
   "cell_type": "markdown",
   "metadata": {},
   "source": [
    "**Put Option**\n",
    "$$ V = \\frac{1}{N} * \\sum(\\max(X - S_T, 0)) $$\n",
    "- $V$ is the estimated value of the option\n",
    "- $N$ is the number of simulations run\n",
    "- $X$ is the strike price of the option\n",
    "- $S_T$ is the stock price at the final time step (maturity) in a simulation\n",
    "\n",
    "**Call Option**\n",
    "$$ V = \\frac{1}{N} * \\sum(\\max(S_T - X, 0)) $$\n",
    "- $V$ is the estimated value of the option\n",
    "- $N$ is the number of simulations run\n",
    "- $X$ is the strike price of the option\n",
    "- $S_T$ is the stock price at the final time step (maturity) in a simulation"
   ]
  },
  {
   "cell_type": "code",
   "execution_count": 15,
   "metadata": {},
   "outputs": [],
   "source": [
    "def monte_carlo(S0: int, X: int, r: float, sigma: float, T:float, N: int, M: int, option_type: str) -> float:\n",
    "    dt: float = T/N # time step\n",
    "    stock_price: list[float] = np.zeros((M, N+1)) # stock price matrix\n",
    "    stock_price[:, 0] = S0 # initial sC = S * N(d1) - X * e^{-rT} * N(d2)tock price\n",
    "    exercise: list[float] = np.zeros((M, N+1)) # exercise matrix\n",
    "\n",
    "    for i in range(1, N+1): # fill stock price matrix\n",
    "        z: list[float] = np.random.normal(size = M) # random normal variable\n",
    "        stock_price[:, i] = stock_price[:, i-1] * np.exp((r - 0.5*sigma**2)*dt + sigma*np.sqrt(dt)*z) # fill stock price matrix\n",
    "\n",
    "    if option_type == 'call': # if call option\n",
    "        option_price = np.maximum(np.zeros(M), stock_price[:, N] - X) \n",
    "    elif option_type == 'put':\n",
    "        option_price = np.maximum(np.zeros(M), X - stock_price[:, N])\n",
    "    else:\n",
    "        raise ValueError(\"Invalid option type\")\n",
    "\n",
    "    option_price: float = np.exp(-r*T) * np.mean(option_price)\n",
    "\n",
    "    return option_price\n"
   ]
  },
  {
   "cell_type": "code",
   "execution_count": 16,
   "metadata": {},
   "outputs": [
    {
     "name": "stdout",
     "output_type": "stream",
     "text": [
      "European call option X1:  1.0259142647218944\n",
      "European put option X1:  18.020268412023597\n",
      "European call option X2:  9.975330994156936\n",
      "European put option X2:  2.5291646351842263\n"
     ]
    }
   ],
   "source": [
    "M: int = 10000  # Number of simulations\n",
    "\n",
    "monte_european_call_X1 = monte_carlo(S0, X1, r, sigma, T, N, M, 'call')\n",
    "monte_european_put_X1 = monte_carlo(S0, X1, r, sigma, T, N, M, 'put')\n",
    "monte_european_call_X2 = monte_carlo(S0, X2, r, sigma, T, N, M, 'call')\n",
    "monte_european_put_X2 = monte_carlo(S0, X2, r, sigma, T, N, M, 'put')\n",
    "\n",
    "print(\"European call option X1: \", monte_european_call_X1)\n",
    "print(\"European put option X1: \", monte_european_put_X1)\n",
    "print(\"European call option X2: \", monte_european_call_X2)\n",
    "print(\"European put option X2: \", monte_european_put_X2)"
   ]
  },
  {
   "cell_type": "markdown",
   "metadata": {},
   "source": [
    "## Black-Scholes"
   ]
  },
  {
   "cell_type": "markdown",
   "metadata": {},
   "source": [
    "- `S0`: the current stock price\n",
    "- `X`: the strike price\n",
    "- `r`: the risk-free interest rate\n",
    "- `sigma`: the volatility\n",
    "- `T`: the time to maturity\n",
    "- `N`: the number of time steps\n",
    "- `option`: option, either `american` or `european`\n",
    "- `option_type`: the type of option, either 'call' or 'put'"
   ]
  },
  {
   "attachments": {},
   "cell_type": "markdown",
   "metadata": {},
   "source": [
    "**Put**\n",
    "$$ C = S * N(d1) - X * e{-rT} * N(d2) $$\n",
    "- C is the price of the European call option\n",
    "- S is the current stock price\n",
    "- X is the strike price of the option\n",
    "- r is the risk-free interest rate\n",
    "- T is the time to maturity\n",
    "- N(d1) and N(d2) are the cumulative distribution functions of the standard normal distribution\n",
    "- $d1 = \\frac{(ln(\\frac{S}{X}) + (r + σ^2/2) * T)}{(σ * \\sqrt(T))}$\n",
    "- $d2 = d1 - σ * \\sqrt(T)$\n",
    "- σ is the volatility of the stock\n",
    "\n",
    "**Call**\n",
    "$$ P = X * e^{-rT} * N(-d2) - S * N(-d1) $$\n",
    "- C is the price of the European call option\n",
    "- S is the current stock price\n",
    "- X is the strike price of the option\n",
    "- r is the risk-free interest rate\n",
    "- T is the time to maturity\n",
    "- N(d1) and N(d2) are the cumulative distribution functions of the standard normal distribution\n",
    "- $d1 = \\frac{(ln(\\frac{S}{X}) + (r + σ^2/2) * T)}{(σ * \\sqrt(T))}$\n",
    "- $d2 = d1 - σ * \\sqrt(T)$\n",
    "- σ is the volatility of the stock"
   ]
  },
  {
   "cell_type": "code",
   "execution_count": 29,
   "metadata": {},
   "outputs": [],
   "source": [
    "def black_scholes(S0: int, X: int, r: float, delta: float, T: float, option_type: str) -> float:\n",
    "    d1: float = (np.log(S0 / X) + (r + 0.5 * delta ** 2)*T) / (delta * np.sqrt(T))\n",
    "    d2: float = d1 - delta * np.sqrt(T)\n",
    "\n",
    "    if option_type == 'call':\n",
    "        option_price: float = S0 * norm.cdf(d1) - X * np.exp(-r * T) * norm.cdf(d2)\n",
    "    elif option_type == 'put':\n",
    "        option_price: float = X * np.exp(-r * T) * norm.cdf(-d2) - S0 * norm.cdf(-d1)\n",
    "    else:\n",
    "        raise ValueError(\"Invalid option type\")\n",
    "\n",
    "    return option_price"
   ]
  },
  {
   "cell_type": "code",
   "execution_count": 30,
   "metadata": {},
   "outputs": [
    {
     "name": "stdout",
     "output_type": "stream",
     "text": [
      "European call option X1:  1.0226152225558796\n",
      "European put option X1:  18.05980466595578\n",
      "European call option X2:  9.872742400408974\n",
      "European put option X2:  2.527184043100572\n"
     ]
    }
   ],
   "source": [
    "black_european_call_X1 = black_scholes(S0, X1, r, sigma, T, 'call')\n",
    "black_european_put_X1 = black_scholes(S0, X1, r, sigma, T, 'put')\n",
    "black_european_call_X2 = black_scholes(S0, X2, r, sigma, T, 'call')\n",
    "black_european_put_X2 = black_scholes(S0, X2, r, sigma, T, 'put')\n",
    "\n",
    "print(\"European call option X1: \", black_european_call_X1)\n",
    "print(\"European put option X1: \", black_european_put_X1)\n",
    "print(\"European call option X2: \", black_european_call_X2)\n",
    "print(\"European put option X2: \", black_european_put_X2)"
   ]
  },
  {
   "attachments": {},
   "cell_type": "markdown",
   "metadata": {},
   "source": [
    "## Comparison"
   ]
  },
  {
   "cell_type": "code",
   "execution_count": 31,
   "metadata": {},
   "outputs": [],
   "source": [
    "def compare_methods(monte_carlo_price, binomial_price, black_scholes_price, *limits):\n",
    "    # plot the results bar chart\n",
    "    fig, ax = plt.subplots()\n",
    "    ax.bar(['Monte Carlo', 'Binomial', 'Black-Scholes'], [monte_carlo_price, binomial_price, black_scholes_price])\n",
    "    ax.set_ylabel('Option price')\n",
    "    ax.set_title('Comparison of option pricing methods')\n",
    "    plt.show()"
   ]
  },
  {
   "cell_type": "code",
   "execution_count": 32,
   "metadata": {},
   "outputs": [
    {
     "data": {
      "image/png": "[encoded data removed]",
      "text/plain": [
       "<Figure size 640x480 with 1 Axes>"
      ]
     },
     "metadata": {},
     "output_type": "display_data"
    },
    {
     "data": {
      "image/png": "[encoded data removed]",
      "text/plain": [
       "<Figure size 640x480 with 1 Axes>"
      ]
     },
     "metadata": {},
     "output_type": "display_data"
    },
    {
     "data": {
      "image/png": "[encoded data removed]",
      "text/plain": [
       "<Figure size 640x480 with 1 Axes>"
      ]
     },
     "metadata": {},
     "output_type": "display_data"
    },
    {
     "data": {
      "image/png": "[encoded data removed]",
      "text/plain": [
       "<Figure size 640x480 with 1 Axes>"
      ]
     },
     "metadata": {},
     "output_type": "display_data"
    }
   ],
   "source": [
    "compare_methods(monte_european_call_X1, binomial_european_call_X1, black_european_call_X1, 1.01, 1.03)\n",
    "compare_methods(monte_european_put_X1, binomial_european_put_X1, black_european_put_X1, 17.8, 18.1)\n",
    "compare_methods(monte_european_call_X2, binomial_european_call_X2, black_european_call_X2, 9.2, 9.23)\n",
    "compare_methods(monte_european_put_X2, binomial_european_put_X2, black_european_put_X2, 2.84, 2.86)"
   ]
  },
  {
   "attachments": {},
   "cell_type": "markdown",
   "metadata": {},
   "source": [
    "All the values are close together hence the calculations are accurate"
   ]
  },
  {
   "attachments": {},
   "cell_type": "markdown",
   "metadata": {},
   "source": [
    "# 2 - Theory"
   ]
  },
  {
   "attachments": {},
   "cell_type": "markdown",
   "metadata": {},
   "source": [
    "## Question 1\n",
    "A company is considering whether to launch a new product. The sum of £170,000 should be spent now on new equipment. It is estimated that there will be a market for the new product for three years and the product will bring £60,000 of profit per year (assume for simplicity that the yearly profit is received at the end of the year as a single payment). Should this project be pursued if the current risk-free interest rate is 5%? Justify your answer."
   ]
  },
  {
   "attachments": {},
   "cell_type": "markdown",
   "metadata": {},
   "source": [
    "$$ PV=\\frac{CF}{(1+r)^{n}} $$\n",
    "- $PV$: Present value of the cash flow\n",
    "- $CF$: future cash flow\n",
    "- $r$: discount rate\n",
    "- $n$: years"
   ]
  },
  {
   "attachments": {},
   "cell_type": "markdown",
   "metadata": {},
   "source": [
    "Year 1 PV: $\\frac{60 000}{(1 + 0.05)^1} = 57 142.85714$\n",
    "\n",
    "Year 2 PV: $\\frac{60 000}{(1 + 0.05)^2} = 54 421.76871$\n",
    "\n",
    "Year 3 PV: $\\frac{60 000}{(1 + 0.05)^3} = 51 830.25591$\n",
    "\n",
    "\n",
    "$\\sum{PV} = 57 142.85714 + 54 421.76871 + 51 830.25591 = 163 394.8818$\n",
    "\n",
    "$ NPV = 163 394.8818 - 170 000 = -6 605.11824$ "
   ]
  },
  {
   "attachments": {},
   "cell_type": "markdown",
   "metadata": {},
   "source": [
    "The project should not pursued as it will lead to a lose. "
   ]
  },
  {
   "attachments": {},
   "cell_type": "markdown",
   "metadata": {},
   "source": [
    "## Question 2\n",
    "A bond with the face value of £200 matures in 3 years and makes yearly coupon payments at the coupon rate of 15%. The payments are made at the end of each year."
   ]
  },
  {
   "attachments": {},
   "cell_type": "markdown",
   "metadata": {},
   "source": [
    "### Part A\n",
    "List all payments (with dates and amounts) the bond makes."
   ]
  },
  {
   "attachments": {},
   "cell_type": "markdown",
   "metadata": {},
   "source": [
    "Year 1 (31/12/2023): $30$\n",
    "\n",
    "Year 2 (31/12/2024): $30$\n",
    "\n",
    "Year 3 (31/12/2025): $ 30 + 200 = 230$"
   ]
  },
  {
   "attachments": {},
   "cell_type": "markdown",
   "metadata": {},
   "source": [
    "## Part B\n",
    "Assuming the effective interest rate of 10% pa, calculate the value of the bond."
   ]
  },
  {
   "attachments": {},
   "cell_type": "markdown",
   "metadata": {},
   "source": [
    "$$ coupon\\_rate * face\\_value(\\frac{1-(1+r)^{-N}}{r}) + \\frac{face\\_value}{(1 + r)^N} $$ "
   ]
  },
  {
   "attachments": {},
   "cell_type": "markdown",
   "metadata": {},
   "source": [
    "$ 0.15 * 200(\\frac{1-(1+0.1)^{-3}}{0.1}) + \\frac{200}{(1 + 0.1)^3} = 224.87 $"
   ]
  },
  {
   "attachments": {},
   "cell_type": "markdown",
   "metadata": {},
   "source": [
    "## Question 3\n",
    "A European call option with the strike of 40p maturing in half a year on a share is worth 13p. Suppose that the share is currently worth 45p and the risk-free interest rate (with continuous compounding) is 10%.\n",
    "\n",
    "Calculate the price eliminating arbitrage opportunities of a European put option with the same strike of 40p maturing in half a year on the same share. You do not need to give a complete proof."
   ]
  },
  {
   "cell_type": "markdown",
   "metadata": {},
   "source": [
    "$$ P = C + Xe^{-rt} - S $$\n",
    "\n",
    "$ (13) + (40)e^{-(0.1)(0.5)} - 45 = 6.05 $"
   ]
  },
  {
   "attachments": {},
   "cell_type": "markdown",
   "metadata": {},
   "source": [
    "## Question 4\n",
    "Suppose that the price of a share on the spot market is 50p, while the price of a European put option on this share that matures in one month and has the strike price of 55p is 3p. Assume that the risk-free interest rate (with continuous compounding) is 5% pa and the share will not be paying any dividends during the coming two months. This situation implies an arbitrage opportunity. Describe an arbitrage strategy and show that it brings profit."
   ]
  },
  {
   "attachments": {},
   "cell_type": "markdown",
   "metadata": {},
   "source": [
    "$ S0 = 50 $\n",
    "\n",
    "$ X = 55 $\n",
    "\n",
    "$ r = 0.05 $ \n",
    "\n",
    "$ p = 3 $\n",
    "\n",
    "\n",
    "1. Buy the put option\n",
    "2. Borrow $ 50 + 3 = 53 $\n",
    "3. Dept of borrowed money after 1 month will be $ (50 + 3)e^{0.5 / 12} = 53.22 $\n",
    "4. After the 1 month period, exercise the option. Sell the stock for new strike price of $55$ (original price of $50$) \n",
    "5. Pay back the dept of $55.22$\n",
    "6. Profit of $55 - 53.22 = 1.78$"
   ]
  }
 ],
 "metadata": {
  "kernelspec": {
   "display_name": "anaconda-_LHDMe_1-py3.11",
   "language": "python",
   "name": "python3"
  },
  "language_info": {
   "codemirror_mode": {
    "name": "ipython",
    "version": 3
   },
   "file_extension": ".py",
   "mimetype": "text/x-python",
   "name": "python",
   "nbconvert_exporter": "python",
   "pygments_lexer": "ipython3",
   "version": "3.11.2"
  },
  "orig_nbformat": 4,
  "vscode": {
   "interpreter": {
    "hash": "e4465dadd522ce05fe6bcce24a0af087d48f6ea67c04d68d123261c62fb3b8cf"
   }
  }
 },
 "nbformat": 4,
 "nbformat_minor": 2
}
