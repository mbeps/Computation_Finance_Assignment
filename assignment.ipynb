{
 "cells": [
  {
   "attachments": {},
   "cell_type": "markdown",
   "metadata": {},
   "source": [
    "# 1 - Practical"
   ]
  },
  {
   "cell_type": "code",
   "execution_count": 16,
   "metadata": {},
   "outputs": [],
   "source": [
    "import numpy as np\n",
    "import math\n",
    "from scipy.stats import norm"
   ]
  },
  {
   "attachments": {},
   "cell_type": "markdown",
   "metadata": {},
   "source": [
    "The objective of this part of the coursework is to implement three different ways of valuing put and call options."
   ]
  },
  {
   "attachments": {},
   "cell_type": "markdown",
   "metadata": {},
   "source": [
    "Take two numbers, $X_1 = 120$ and $X_2$ calculated as follows. Take your student number, remove zeros and use the remaining digits to make the number closest to $100$. For example, if your student number is $100966240$, after dropping 0s you get $196624$ and can make the number $96$. Do not put your student number on your submission to preserve anonymity.\n",
    "\n",
    "Consider options with strike prices $X_1$ and $X_2$ of $4$ types (European and American puts and calls) with the time to maturity equal to 6 months (1/2 of a year). \n",
    "\n",
    "In total this amounts to 8 different options.\n",
    "Suppose the following holds:\n",
    "- current stock price S0 is 100p;\n",
    "- annual volatility is 20%;\n",
    "- money can be invested at the annual interest rate (with continuous compounding) of 5% and the investment is virtually riskless; money can be borrowed at the same rate.\n",
    "\n",
    "You should code up the Black–Scholes formula, binomial trees, and Monte Carlo algorithm, and find the following 20 numbers:\n",
    "- the prices of the European call and put options computed from the Black–Scholes formula (4 numbers);\n",
    "- the prices of the European and American call and put options computed using the binomial tree method (with approximately 1 day as the time step) (8 numbers);\n",
    "- the prices of the European call and put options computed using the Monte Carlo method (with approximately 1 day as the time step) (4 numbers).\n",
    "\n",
    "In the lectures several variations of each method were considered (e.g., different types of trees or simulations based on different SDEs). It is sufficient to choose one variant. Doing several variants will be considered an extra advantage, but it is not required.\n",
    "- Hint 1: It is easier to measure time in years (fractions of a year), rather than in days.\n",
    "- Hint 2: Different methods should return similar values for the same price.\n",
    "For example, the prices of European options calculated using the Black-Scholes formula, binomial trees, and Monte-Carlo should be the same (or very close, usually within 0.1p).\n",
    "- Hint 3: If you use Java, you will need to calculate the distribution function N of the Gaussian distribution ϕ(0, 1). You can use the method from the file CNDF.java provided on Moodle."
   ]
  }
 ],
 "metadata": {
  "kernelspec": {
   "display_name": "anaconda-_LHDMe_1-py3.11",
   "language": "python",
   "name": "python3"
  },
  "language_info": {
   "codemirror_mode": {
    "name": "ipython",
    "version": 3
   },
   "file_extension": ".py",
   "mimetype": "text/x-python",
   "name": "python",
   "nbconvert_exporter": "python",
   "pygments_lexer": "ipython3",
   "version": "3.11.2"
  },
  "orig_nbformat": 4,
  "vscode": {
   "interpreter": {
    "hash": "e4465dadd522ce05fe6bcce24a0af087d48f6ea67c04d68d123261c62fb3b8cf"
   }
  }
 },
 "nbformat": 4,
 "nbformat_minor": 2
}
