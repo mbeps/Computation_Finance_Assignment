{
 "cells": [
  {
   "attachments": {},
   "cell_type": "markdown",
   "metadata": {},
   "source": [
    "# 1 - Practical"
   ]
  },
  {
   "cell_type": "code",
   "execution_count": 24,
   "metadata": {},
   "outputs": [],
   "source": [
    "import numpy as np\n",
    "import math\n",
    "from scipy.stats import norm"
   ]
  },
  {
   "attachments": {},
   "cell_type": "markdown",
   "metadata": {},
   "source": [
    "The objective of this part of the coursework is to implement three different ways of valuing put and call options."
   ]
  },
  {
   "attachments": {},
   "cell_type": "markdown",
   "metadata": {},
   "source": [
    "Take two numbers, $X_1 = 120$ and $X_2$ calculated as follows. Take your student number, remove zeros and use the remaining digits to make the number closest to $100$. For example, if your student number is $100966240$, after dropping 0s you get $196624$ and can make the number $96$. Do not put your student number on your submission to preserve anonymity.\n",
    "\n",
    "Consider options with strike prices $X_1$ and $X_2$ of $4$ types (European and American puts and calls) with the time to maturity equal to 6 months (1/2 of a year). \n",
    "\n",
    "In total this amounts to 8 different options.\n",
    "Suppose the following holds:\n",
    "- current stock price S0 is 100p;\n",
    "- annual volatility is 20%;\n",
    "- money can be invested at the annual interest rate (with continuous compounding) of 5% and the investment is virtually riskless; money can be borrowed at the same rate.\n",
    "\n",
    "You should code up the Black–Scholes formula, binomial trees, and Monte Carlo algorithm, and find the following 20 numbers:\n",
    "- the prices of the European call and put options computed from the Black–Scholes formula (4 numbers);\n",
    "- the prices of the European and American call and put options computed using the binomial tree method (with approximately 1 day as the time step) (8 numbers);\n",
    "- the prices of the European call and put options computed using the Monte Carlo method (with approximately 1 day as the time step) (4 numbers).\n",
    "\n",
    "In the lectures several variations of each method were considered (e.g., different types of trees or simulations based on different SDEs). It is sufficient to choose one variant. Doing several variants will be considered an extra advantage, but it is not required.\n",
    "- Hint 1: It is easier to measure time in years (fractions of a year), rather than in days.\n",
    "- Hint 2: Different methods should return similar values for the same price.\n",
    "For example, the prices of European options calculated using the Black-Scholes formula, binomial trees, and Monte-Carlo should be the same (or very close, usually within 0.1p).\n",
    "- Hint 3: If you use Java, you will need to calculate the distribution function N of the Gaussian distribution ϕ(0, 1). You can use the method from the file CNDF.java provided on Moodle."
   ]
  },
  {
   "cell_type": "markdown",
   "metadata": {},
   "source": [
    "## Binomial Trees"
   ]
  },
  {
   "cell_type": "code",
   "execution_count": 25,
   "metadata": {},
   "outputs": [],
   "source": [
    "def binomial_tree(S0: int, X: int, r: float, sigma: float, T: float, N: int, option: str, option_type: str):\n",
    "    dt: float = T/N\n",
    "    u: float = np.exp(sigma*np.sqrt(dt))\n",
    "    d: float = 1/u\n",
    "    p: float = (np.exp(r*dt) - d) / (u - d)\n",
    "\n",
    "    stock_price: np.array = np.zeros((N+1, N+1))\n",
    "    option_price: np.array = np.zeros((N+1, N+1))\n",
    "\n",
    "    for i in range(N+1):\n",
    "        for j in range(i+1):\n",
    "            stock_price[j][i] = S0*(u**(i-j))*(d**j)\n",
    "\n",
    "    if option_type == 'call' and option == 'european':\n",
    "        option_price[:, N] = np.maximum(np.zeros(N+1), stock_price[:, N] - X)\n",
    "    elif option_type == 'put' and option == 'european':\n",
    "        option_price[:, N] = np.maximum(np.zeros(N+1), X - stock_price[:, N])\n",
    "    elif option_type == 'call' and option == 'american':\n",
    "        option_price[:, N] = np.maximum(np.zeros(N+1), stock_price[:, N] - X)\n",
    "    elif option_type == 'put' and option == 'american':\n",
    "        option_price[:, N] = np.maximum(np.zeros(N+1), X - stock_price[:, N])\n",
    "    else:\n",
    "        raise ValueError(\"Invalid option type\")\n",
    "\n",
    "    for i in range(N-1, -1, -1):\n",
    "        for j in range(i+1):\n",
    "            option_price[j][i] = (\n",
    "                p*option_price[j][i+1] + (1-p)*option_price[j+1][i+1])/np.exp(r*dt)\n",
    "            if option_type == 'call' and option == 'american':\n",
    "                option_price[j][i] = np.maximum(\n",
    "                    option_price[j][i], stock_price[j][i] - X)\n",
    "            elif option_type == 'put' and option == 'american':\n",
    "                option_price[j][i] = np.maximum(\n",
    "                    option_price[j][i], X - stock_price[j][i])\n",
    "\n",
    "    return option_price[0][0]\n"
   ]
  },
  {
   "cell_type": "code",
   "execution_count": 26,
   "metadata": {},
   "outputs": [
    {
     "name": "stdout",
     "output_type": "stream",
     "text": [
      "European call option X1:  1.021482664849677\n",
      "European put option X1:  18.058672108250214\n",
      "American call option X1:  1.021482664849677\n",
      "American put option X1:  20.0\n",
      "European call option X2:  9.22387521633163\n",
      "European put option X2:  2.8536267710520584\n",
      "American call option X2:  9.22387521633163\n",
      "American put option X2:  2.985307430987258\n"
     ]
    }
   ],
   "source": [
    "S0: int = 100\n",
    "X1: int = 120\n",
    "X2: int = 96  # This value is based on your student number as described in the question\n",
    "r: float = 0.05\n",
    "sigma: float = 0.2\n",
    "T: float = 0.5\n",
    "N: int = 365  # Approximate number of days in 6 months\n",
    "\n",
    "european_call_X1 = binomial_tree(S0, X1, r, sigma, T, N, 'european', 'call')\n",
    "european_put_X1 = binomial_tree(S0, X1, r, sigma, T, N, 'european', 'put')\n",
    "american_call_X1 = binomial_tree(S0, X1, r, sigma, T, N, 'american' ,'call')\n",
    "american_put_X1 = binomial_tree(S0, X1, r, sigma, T, N, 'american' , 'put')\n",
    "european_call_X2 = binomial_tree(S0, X2, r, sigma, T, N, 'european', 'call')\n",
    "european_put_X2 = binomial_tree(S0, X2, r, sigma, T, N, 'european', 'put')\n",
    "american_call_X2 = binomial_tree(S0, X2, r, sigma, T, N, 'american' , 'call')\n",
    "american_put_X2 = binomial_tree(S0, X2, r, sigma, T, N, 'american' , 'put')\n",
    "\n",
    "print(\"European call option X1: \", european_call_X1)\n",
    "print(\"European put option X1: \", european_put_X1)\n",
    "print(\"American call option X1: \", american_call_X1)\n",
    "print(\"American put option X1: \", american_put_X1)\n",
    "print(\"European call option X2: \", european_call_X2)\n",
    "print(\"European put option X2: \", european_put_X2)\n",
    "print(\"American call option X2: \", american_call_X2)\n",
    "print(\"American put option X2: \", american_put_X2)"
   ]
  },
  {
   "cell_type": "markdown",
   "metadata": {},
   "source": [
    "## Monte Carlo"
   ]
  },
  {
   "cell_type": "code",
   "execution_count": 27,
   "metadata": {},
   "outputs": [],
   "source": [
    "def monte_carlo(S0, X, r, sigma, T, N, M, option_type):\n",
    "    dt = T/N\n",
    "    stock_price = np.zeros((M, N+1))\n",
    "    stock_price[:, 0] = S0\n",
    "    exercise = np.zeros((M, N+1))\n",
    "\n",
    "    for i in range(1, N+1):\n",
    "        z = np.random.normal(size=M)\n",
    "        stock_price[:, i] = stock_price[:, i-1] * np.exp((r - 0.5*sigma**2)*dt + sigma*np.sqrt(dt)*z)\n",
    "\n",
    "    if option_type == 'call':\n",
    "        option_price = np.maximum(np.zeros(M), stock_price[:, N] - X)\n",
    "    elif option_type == 'put':\n",
    "        option_price = np.maximum(np.zeros(M), X - stock_price[:, N])\n",
    "    elif option_type == 'american_call':\n",
    "        for i in range(N-1, -1, -1):\n",
    "            for j in range(M):\n",
    "                if stock_price[j][i] - X > exercise[j][i+1]:\n",
    "                    exercise[j][i] = stock_price[j][i] - X\n",
    "                else:\n",
    "                    exercise[j][i] = exercise[j][i+1]/np.exp(r*dt)\n",
    "        option_price = np.maximum(np.zeros(M), exercise[:, 0])\n",
    "    elif option_type == 'american_put':\n",
    "        for i in range(N-1, -1, -1):\n",
    "            for j in range(M):\n",
    "                if X - stock_price[j][i] > exercise[j][i+1]:\n",
    "                    exercise[j][i] = X - stock_price[j][i]\n",
    "                else:\n",
    "                    exercise[j][i] = exercise[j][i+1]/np.exp(r*dt)\n",
    "        option_price = np.maximum(np.zeros(M), exercise[:, 0])\n",
    "    else:\n",
    "        raise ValueError(\"Invalid option type\")\n",
    "\n",
    "    option_price = np.exp(-r*T) * np.mean(option_price)\n",
    "\n",
    "    return option_price\n"
   ]
  },
  {
   "cell_type": "code",
   "execution_count": 30,
   "metadata": {},
   "outputs": [
    {
     "name": "stdout",
     "output_type": "stream",
     "text": [
      "European call option X1:  0.9658327616801856\n",
      "European put option X1:  17.995626345857467\n",
      "American call option X1:  1.674776307178899\n",
      "American put option X1:  28.33511744280988\n",
      "European call option X2:  9.094276806893994\n",
      "European put option X2:  2.798044569632484\n",
      "American call option X2:  15.762927974075719\n",
      "American put option X2:  5.9974955448639315\n"
     ]
    }
   ],
   "source": [
    "S0 = 100\n",
    "X1 = 120\n",
    "X2 = 96  # This value is based on your student number as described in the question\n",
    "r = 0.05\n",
    "sigma = 0.2\n",
    "T = 0.5\n",
    "N = 365  # Approximate number of days in 6 months\n",
    "M = 1000  # Number of simulations\n",
    "\n",
    "european_call_X1 = monte_carlo(S0, X1, r, sigma, T, N, M, 'call')\n",
    "european_put_X1 = monte_carlo(S0, X1, r, sigma, T, N, M, 'put')\n",
    "american_call_X1 = monte_carlo(S0, X1, r, sigma, T, N, M, 'american_call')\n",
    "american_put_X1 = monte_carlo(S0, X1, r, sigma, T, N, M, 'american_put')\n",
    "european_call_X2 = monte_carlo(S0, X2, r, sigma, T, N, M, 'call')\n",
    "european_put_X2 = monte_carlo(S0, X2, r, sigma, T, N, M, 'put')\n",
    "american_call_X2 = monte_carlo(S0, X2, r, sigma, T, N, M, 'american_call')\n",
    "american_put_X2 = monte_carlo(S0, X2, r, sigma, T, N, M, 'american_put')\n",
    "\n",
    "print(\"European call option X1: \", european_call_X1)\n",
    "print(\"European put option X1: \", european_put_X1)\n",
    "print(\"American call option X1: \", american_call_X1)\n",
    "print(\"American put option X1: \", american_put_X1)\n",
    "print(\"European call option X2: \", european_call_X2)\n",
    "print(\"European put option X2: \", european_put_X2)\n",
    "print(\"American call option X2: \", american_call_X2)\n",
    "print(\"American put option X2: \", american_put_X2)"
   ]
  },
  {
   "cell_type": "markdown",
   "metadata": {},
   "source": [
    "## Black-Scholes"
   ]
  },
  {
   "cell_type": "code",
   "execution_count": 31,
   "metadata": {},
   "outputs": [],
   "source": [
    "def black_scholes(S0, X, r, sigma, T, option_type):\n",
    "    d1 = (np.log(S0/X) + (r + 0.5*sigma**2)*T) / (sigma*np.sqrt(T))\n",
    "    d2 = d1 - sigma*np.sqrt(T)\n",
    "\n",
    "    if option_type == 'call':\n",
    "        option_price = S0*norm.cdf(d1) - X*np.exp(-r*T)*norm.cdf(d2)\n",
    "    elif option_type == 'put':\n",
    "        option_price = X*np.exp(-r*T)*norm.cdf(-d2) - S0*norm.cdf(-d1)\n",
    "    else:\n",
    "        raise ValueError(\"Invalid option type\")\n",
    "\n",
    "    return option_price"
   ]
  },
  {
   "cell_type": "code",
   "execution_count": 32,
   "metadata": {},
   "outputs": [
    {
     "name": "stdout",
     "output_type": "stream",
     "text": [
      "European call option X1:  1.0226152225558796\n",
      "European put option X1:  18.05980466595578\n",
      "European call option X2:  9.222233623917731\n",
      "European put option X2:  2.8519851786376655\n"
     ]
    }
   ],
   "source": [
    "S0 = 100\n",
    "X1 = 120\n",
    "X2 = 96  # This value is based on your student number as described in the question\n",
    "r = 0.05\n",
    "sigma = 0.2\n",
    "T = 0.5\n",
    "\n",
    "european_call_X1 = black_scholes(S0, X1, r, sigma, T, 'call')\n",
    "european_put_X1 = black_scholes(S0, X1, r, sigma, T, 'put')\n",
    "european_call_X2 = black_scholes(S0, X2, r, sigma, T, 'call')\n",
    "european_put_X2 = black_scholes(S0, X2, r, sigma, T, 'put')\n",
    "\n",
    "print(\"European call option X1: \", european_call_X1)\n",
    "print(\"European put option X1: \", european_put_X1)\n",
    "print(\"European call option X2: \", european_call_X2)\n",
    "print(\"European put option X2: \", european_put_X2)"
   ]
  }
 ],
 "metadata": {
  "kernelspec": {
   "display_name": "anaconda-_LHDMe_1-py3.11",
   "language": "python",
   "name": "python3"
  },
  "language_info": {
   "codemirror_mode": {
    "name": "ipython",
    "version": 3
   },
   "file_extension": ".py",
   "mimetype": "text/x-python",
   "name": "python",
   "nbconvert_exporter": "python",
   "pygments_lexer": "ipython3",
   "version": "3.11.2"
  },
  "orig_nbformat": 4,
  "vscode": {
   "interpreter": {
    "hash": "e4465dadd522ce05fe6bcce24a0af087d48f6ea67c04d68d123261c62fb3b8cf"
   }
  }
 },
 "nbformat": 4,
 "nbformat_minor": 2
}
